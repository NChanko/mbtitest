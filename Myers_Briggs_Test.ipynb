{
  "nbformat": 4,
  "nbformat_minor": 0,
  "metadata": {
    "colab": {
      "provenance": [],
      "collapsed_sections": [],
      "authorship_tag": "ABX9TyNGANWISy1EaszEiiKx7DsK",
      "include_colab_link": true
    },
    "kernelspec": {
      "name": "python3",
      "display_name": "Python 3"
    },
    "language_info": {
      "name": "python"
    }
  },
  "cells": [
    {
      "cell_type": "markdown",
      "metadata": {
        "id": "view-in-github",
        "colab_type": "text"
      },
      "source": [
        "<a href=\"https://colab.research.google.com/github/NChanko/mbtitest/blob/main/Myers_Briggs_Test.ipynb\" target=\"_parent\"><img src=\"https://colab.research.google.com/assets/colab-badge.svg\" alt=\"Open In Colab\"/></a>"
      ]
    },
    {
      "cell_type": "code",
      "execution_count": 2,
      "metadata": {
        "id": "uFjVbdDBFzzY"
      },
      "outputs": [],
      "source": [
        "def english():\n",
        "  q1='A.expend energy, enjoy groups\\nB.conserve energy, enjoy one-on-one\\n'\n",
        "  q2='A. interpret literally \\nB. look for meaning and possibilities\\n'\n",
        "  q3='A. logical, thinking, questioning \\nB. empathetic, feeling, accommodating\\n'\n",
        "  q4='A. organized, orderly \\nB. flexible, adaptable\\n'\n",
        "  q5='A. more outgoing, think out loud \\nB. more reserved, think to yourself\\n'\n",
        "  q6='A. practical, realistic, experiential \\nB. imaginative, innovative, theoretical\\n'\n",
        "  q7='A. candid, straight forward, frank \\nB. tactful, kind, encouraging\\n'\n",
        "  q8='A. plan, schedule \\nB. unplanned, spontaneous\\n'\n",
        "  q9='A. seek many tasks, public activities, interaction with others b\\nB. seek private, solitary activities with quiet to concentrate\\n'\n",
        "  q10='A. standard, usual, conventional \\nB. different, novel, unique\\n'\n",
        "  q11='A. firm, tend to criticize, hold the line \\nB. gentle, tend to appreciate, conciliate\\n'\n",
        "  q12='A. regulated, structured \\nB. easygoing, “live” and “let live”\\n'\n",
        "  q13='A. external, communicative, express yourself \\nB. internal, reticent, keep to yourself\\n'\n",
        "  q14='A. focus on here-and-now \\nB. look to the future, global perspective, “big picture”\\n'\n",
        "  q15='A. tough-minded, just \\nB. tender-hearted, merciful\\n'\n",
        "  q16='A. preparation, plan ahead \\nB. go with the flow, adapt as you go\\n'\n",
        "  q17='A. active, initiate \\nB. reflective, deliberate\\n'\n",
        "  q18='A. facts, things, “what is” \\nB. ideas, dreams, “what could be,” philosophical\\n'\n",
        "  q19='A. matter of fact, issue-oriented \\nB. sensitive, people-oriented, compassionate\\n'\n",
        "  q20='A. control, govern \\nB. latitude, freedom\\n'\n",
        "\n",
        "  questions = [q1,q2,q3,q4,q5,q6,q7,q8,q9,q10,q11,q12,q13,q14,q15,q16,q17,q18,q19,q20]\n",
        "\n",
        "  introtxt = \"For each of the following 20 prompts choose A. or B.\\n\\\n",
        "• Choose the answer that you think most accurately describes you\\n\\\n",
        "• Even if you agree with both answers, check one you agree with more.\\n\\\n",
        "• Answer as you really are, not you want to be.\\n\\\n",
        "• Make choices for the majority of your life situations.\\n\\\n",
        "• Having strong interests should not be used to cloud the results.\\n\\\n",
        "• Think of situations in which you are free to be yourself.\\n\\\n",
        "• There are no right or wrong answers.\\n\\\n",
        "• Answer honestly.\\n\\n\"\n",
        "\n",
        "  runmbtest(introtxt,questions)\n",
        "\n"
      ]
    },
    {
      "cell_type": "code",
      "source": [
        "def myanmar():\n",
        "  q1='A.အဖွဲ့လိုက်နေတတ်သည်၊ မိမိအစွမ်းကို ထုတ်ဖော်လေ့ရှိသည်\\nB.မိမိအစွမ်းကို ဝှက်ထားလေ့ရှိသည်၊ တစ်ဦးချင်းနေရတာကို သဘောကျသည်\\n'\n",
        "  q2='A.အသေအချာ နာယူဖတ်ရှု့လေ့ရှိသည်\\nB.အဓိပ္ပါယ်များနှင့် ဖြစ်နိုင်ချေများကို ရှာဖွေလေ့ရှိသည်\\n'\n",
        "  q3='A.အကျိုးသင့် အကြောင်းသင့်တွေးခေါ်စဉ်းစားလေ့ရှိ၊ မေးခွန်းများထုတ်လေ့ရှိသည်\\nB.မျှဝေခံစားလေ့ရှိ၊ အလိုက်သင့် နေတတ်သည်။\\n'\n",
        "  q4='A.တိကျသည်၊ စနစ်တကျရှိသည်\\nB.ပျော့ပြောင်းသည်၊ လိုက်လျောညီထွေရှိသည်\\n'\n",
        "  q5='A.ပွင့်ပွင့်လင်းလင်းရှိ၍ အတွေးအမြင်သစ်များကို ဖော်ထုတ်လေ့ရှိသည်\\nB.ဘာသိဘာသာနေတတ်၍ မိမိဘာသာတွေးတောနေတတ်သည်\\n'\n",
        "  q6='A.လက်တွေ့ကျ၍ စမ်းသပ်ဆောင်ရွက်လေ့ရှိသည်\\nB.စိတ်ကူးယဉ်ဆန်၍ သီအိုရီပိုင်း ဆန်းသစ်တီထွင်မှုမျိုးကို လုပ်ဆောင်သည်\\n'\n",
        "  q7='A.ပွင့်လင်း၊ တဲ့တိုးပြောလေ့ဆိုလေ့ရှိသည်။ \\nB.လိမ္မာပါးနပ်စွာပြောဆိုလေ့ရှိသည်။ ကြင်နာတတ်၊ အားပေးတတ်သည်။\\n'\n",
        "  q8='A.အစီအစဉ်တကျ၊အချိန်ဇယားဖြင့် လုပ်ဆောင်သည်\\nB.အစီအစဉ်မရှိ၊ ဆက်တိုက်လုပ်ဆောင်သည်\\n'\n",
        "  q9='A.အလုပ်အများကြီးကို ရှာကြံပြီး လုပ်ဆောင်တတ်သည်။ အဖွဲ့လိုက်လှုပ်ရှားမှုများတွင် ပါဝင်ခြင်း၊ အခြားသူများနှင့် ပြောဆိုဆက်ဆံခြင်းများကို သဘောကျသည်\\nB.မိမိဘာသာ နေတတ်၍ ၊ တိတ်ဆိတ်စွာ အာရုံစိုက်၍လုပ်ရသော လှုပ်ရှားမှုမျိုးကို လုပ်လေ့ရှိသည်\\n'\n",
        "  q10='A.စနစ်တကျ၊ ပုံသေကားချပ်ဖြင့် လုပ်ရိုးလုပ်စဉ်အတိုင်းလုပ်သည်\\nB.မတူကွဲပြား ခြားနား၍ ထူးခြားမှုမျိုးကိုလုပ်သည်\\n'\n",
        "  q11='A.တင်းမာလေ့ရှိသည်၊ ဝေဖန်လေ့ရှိပြီး တစ်ခုခုကို စွဲစွဲမြဲမြဲ ဆုပ်ကိုင်လေ့ရှိသည်။ \\nB.နူးညံ့သိမ်မွေ့သည်၊ ချီးကျူးလေ့ရှိသည်။ ဖြန်ဖြေရေးသမား\\n'\n",
        "  q12='A.စည်းမျဉ်း စည်းကမ်းများဖြင့် စနစ်တကျရှိသည်။\\nB.ပေါ့ပေါ့ပါးပါးနေ၍ ရှင်သန်သည်\\n'\n",
        "  q13='A.ပေါင်းသင်းဆက်ဆံလွယ်၍မိမိကိုယ်ကို ထုတ်ဖော်ပြောဆိုလေ့ရှိသည် ။\\nB.ထုတ်ဖော်ပြောဆိုလေ့မရှိပါပဲ .ပြောစရာများကို မိမိဘာသာ သိမ်းဆည်းထားလေ့ရှိသည်\\n'\n",
        "  q14='A.လက်ရှိ ရောက်နေသော နေရာကိုပို၍ အာရုံစိုက်တတ်သည်\\nB.အနာဂတ်ကိုမျှော်၍ ကမ္ဘာ့အမြင်ဖြင့် ကြည့်လေ့ရှိသည်\\n'\n",
        "  q15='A.စိတ်ဓာတ်မာကျောသည်\\nB.နူးညံ့သော စိတ်ဓာတ်ရှိသည်။ ခွင့်လွှတ်သက်ညှာသနားတတ်သည်။ \\n'\n",
        "  q16='A.ကြိုတင်ပြင်ဆင် လုပ်ဆောင်တတ်သည်\\nB.မျှောလိုက်လေ့ရှိသည်၊ သွားနေစဉ်တွင် လိုက်လျောညီထွေရှိအောင် လုပ်ဆောင်တတ်သည်\\n'\n",
        "  q17='A.တက်ကြွ ၍ စတင်လုပ်ဆောင်သူ\\nB.တိတ်တဆိတ်နေ၍ သတိတကြီးလုပ်ဆောင်လေ့ရှိသည်\\n'\n",
        "  q18='A.အချက်အလက်များ အရာဝတ္တုများပေါ်တွင် အာရုံစိုက်လေ့ရှိသည်။ ဘာဖြစ်တာလဲ ဆိုသည့် မေးခွန်းမျိုး မေးလေ့ရှိသည်\\nB.စိတ်ကူးများ ၊အိမ်မက်များ ၊ တွေးခေါ်မှုများနှင့်\" ဘာဖြစ်နိုင်သလဲ\" ဆိုသည့် မေးခွန်းကိုမေးသည်\\n'\n",
        "  q19='A.လက်တွေ့ကျသည်။ ပြဿနာကို ဦးစားပေးဖြေရှင်းသည်။\\nB.ထိခိုက်ခံစားလွယ်သည်။ လူများကို ဦးစားပေးသည်။ ကြင်နာသနားတတ်သည်။ စာနာတတ်သည်။ \\n'\n",
        "  q20='A.ထိန်းချုပ်သည်၊ အုပ်ချုပ်စိုးမိုးသည်\\nB.လွတ်လပ်မှုကို သဘောကျသည်\\n'\n",
        "  #Create a list for questions . It will be applied in for loop.\n",
        "  questions = [q1,q2,q3,q4,q5,q6,q7,q8,q9,q10,q11,q12,q13,q14,q15,q16,q17,q18,q19,q20]\n",
        "  introtxt =\"အောက်တွင် ပါဝင်သော မေးခွန်း၂၀ ကို A သို့မဟုတ် B ကိုရွေးပေးပါ။\\n\\\n",
        "  -သင်နှင့် အလိုက်ဖက်ဆုံးဟုထင်သော အဖြေကို သာရွေးပါ။\\n\\\n",
        "  -နှစ်ခုစလုံးကို သဘောတူလျှင်တောင်၊ ပိုသဘောတူသည့် တစ်ခုကို ရွေးပါ။\\n\\\n",
        "  -သင်ဖြစ်နေသည့်အရာကိုရွေးပါ။ သင်ဖြစ်ချင်သည့်ပုံစံကို မရွေးပါနှင့်။\\n\\\n",
        "  -သင့်ဘဝအခြေအနေတော်တော်များများမှာ ဖြစ်သည့်ပုံစံကို ရွေးပါ။\\n\\\n",
        "  -သင် အရမ်းလုပ်ချင်တာ၊ စိတ်ဝင်စားတာကြောင့် ရလဒ်အဖြေကို မဝေဝါးပါစေနဲ့။\\n\\\n",
        "  -သင့်ဘာသာ လွတ်လွတ်လပ်လပ် ပြောဆိုလို့ရတယ်ဆိုတဲ့ အခြေအနေတစ်ခုကို စဉ်းစားပါ။\\n\\\n",
        "  -မှန်သော မှားသော အဖြေဟ၍ မရှိပါ။\\n\\\n",
        "  -ရိုးသားစွာဖြေဆိုပါ။\\n\\n \"\n",
        "\n",
        "  runmbtest(introtxt,questions)"
      ],
      "metadata": {
        "id": "wWRjHMEAe21l"
      },
      "execution_count": 3,
      "outputs": []
    },
    {
      "cell_type": "code",
      "source": [
        "def runmbtest(introtxt,questions):\n",
        "  #First print the intro text.\n",
        "  print (introtxt)\n",
        "  #Create a dictionary for answers.\n",
        "  ansd = {}\n",
        "  #answers will be assigned to new variables by using for loop.\n",
        "  ans=1\n",
        "  for i in questions:\n",
        "    ansd[\"ans{0}\".format(ans)]= input(i)\n",
        "    ans=ans+1\n",
        "  \n",
        " # print(ansd)\n",
        " #have to manually assign dictionary values to ans.\n",
        "  ans1=ansd[\"ans1\"]\n",
        "  ans2=ansd[\"ans2\"]\n",
        "  ans3=ansd[\"ans3\"]\n",
        "  ans4=ansd[\"ans4\"]\n",
        "  ans5=ansd[\"ans5\"]\n",
        "  ans6=ansd[\"ans6\"]\n",
        "  ans7=ansd[\"ans7\"]\n",
        "  ans8=ansd[\"ans8\"]\n",
        "  ans9=ansd[\"ans9\"]\n",
        "  ans10=ansd[\"ans10\"]\n",
        "  ans11=ansd[\"ans11\"]\n",
        "  ans12=ansd[\"ans12\"]\n",
        "  ans13=ansd[\"ans13\"]\n",
        "  ans14=ansd[\"ans14\"]\n",
        "  ans15=ansd[\"ans15\"]\n",
        "  ans16=ansd[\"ans16\"]\n",
        "  ans17=ansd[\"ans17\"]\n",
        "  ans18=ansd[\"ans18\"]\n",
        "  ans19=ansd[\"ans19\"]\n",
        "  ans20=ansd[\"ans20\"]\n",
        "\n",
        "  #Create a list for each personality group. \n",
        "  ie = [ans1,ans5,ans9,ans13,ans17]\n",
        "  jp = [ans4,ans8,ans12,ans16,ans20]\n",
        "  sn= [ans2,ans6,ans10,ans14,ans18]\n",
        "  tf = [ans3,ans7,ans11,ans15,ans19]\n",
        "  #Count the answers in each personality group. Ansers can be either A or B.\n",
        "  introvert = ie.count(\"B\")\n",
        "  extravert =ie.count(\"A\")\n",
        "\n",
        "  judging =jp.count(\"A\")\n",
        "  perciving =jp.count(\"B\")\n",
        "\n",
        "  thinking =tf.count(\"A\")\n",
        "  feeling =tf.count(\"B\")\n",
        "\n",
        "  sensing =sn.count(\"A\")\n",
        "  intuitive =sn.count(\"B\")\n",
        "  #print the result.\n",
        "  print(\"introvert is \",(introvert/(introvert+extravert))) \n",
        "  print(\"extrovert is \",(extravert/(introvert+extravert)))\n",
        "  print(\"judging is \",(judging/(judging+perciving)))\n",
        "  print(\"perciving is \",(perciving/(judging+perciving)))\n",
        "  print(\"sensing is \", (sensing/(sensing+intuitive)))\n",
        "  print(\"intuititve is \",(intuitive/(sensing+intuitive)))\n",
        "  print(\"Thinkingis \",(thinking/(thinking+feeling)))\n",
        "  print(\"Feeling is \",(feeling/(thinking+feeling)))\n",
        "\n",
        "  mbticat(introvert,extravert,judging,perciving,thinking,feeling,sensing,intuitive)"
      ],
      "metadata": {
        "id": "jFWP3YH7HnXS"
      },
      "execution_count": 4,
      "outputs": []
    },
    {
      "cell_type": "code",
      "source": [
        "#categorising the answers.\n",
        "def mbticat(introvert,extravert,judging,perciving,thinking,feeling,sensing,intuitive):\n",
        "  #define answers based on the number of counts.\n",
        "  if introvert > extravert:\n",
        "    ie = \"I\"\n",
        "  elif extravert> introvert:\n",
        "    ie =\"E\"\n",
        "  if sensing > intuitive:\n",
        "    sn =\"S\"\n",
        "  elif intuitive >sensing:\n",
        "    sn=\"N\"\n",
        "  if judging > perciving:\n",
        "    jp =\"J\"\n",
        "  elif perciving >judging:\n",
        "    jp=\"P\"\n",
        "  if thinking > feeling:\n",
        "    tf =\"T\"\n",
        "  elif feeling >thinking:\n",
        "    tf=\"F\"\n",
        "\n",
        "  result =ie+sn+tf+jp\n",
        "  print(\"\\nYOUR RESULT IS \",result)\n"
      ],
      "metadata": {
        "id": "sm1W16wWKalz"
      },
      "execution_count": 5,
      "outputs": []
    },
    {
      "cell_type": "code",
      "source": [
        "def main():\n",
        "  lang =input(\"select language\\n 1.Myanmar\\n 2.English\\n\")\n",
        "  if lang == \"1\":\n",
        "    print(\"\\nမြန်မာလိုရွေးချယ်လိုက်ပါပြီ\\n\\n\")\n",
        "    myanmar()\n",
        "\n",
        "  elif lang == \"2\":\n",
        "    print(\"\\nEnglish has been chosen.\\n\\n\")\n",
        "    english()\n",
        "\n",
        "main()"
      ],
      "metadata": {
        "id": "eIpiHTu1cKfb"
      },
      "execution_count": null,
      "outputs": []
    }
  ]
}